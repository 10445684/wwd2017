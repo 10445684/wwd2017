{
 "cells": [
  {
   "cell_type": "markdown",
   "metadata": {},
   "source": [
    "# Homework 1\n",
    "## Due date:\n",
    "\n"
   ]
  },
  {
   "cell_type": "markdown",
   "metadata": {},
   "source": [
    "## Assingment 1 (ungraded). Read some\n",
    "- https://docs.python.org/release/3.0.1/tutorial/introduction.html\n",
    "- https://learnxinyminutes.com/docs/python/\n",
    "- https://realpython.com/learn/python-first-steps/\n",
    "\n",
    "- https://www.codecademy.com/\n",
    "- https://docs.python.org/release/3.0.1/tutorial/introduction.html\n",
    "\n",
    "https://www.youtube.com/watch?v=N4mEzFDjqtA (til 15:45)"
   ]
  },
  {
   "cell_type": "markdown",
   "metadata": {},
   "source": [
    "## Assingment 2 (20 points). \n",
    "- Create a list named *spam* with numbers from 1 to 10 numbers \n",
    "\n",
    "- Calculate the mean of the list \n",
    "\n",
    "- Calculate the mean of the first five elements of the list \n",
    "\n",
    "- Check if the first element is larger than the last element"
   ]
  },
  {
   "cell_type": "code",
   "execution_count": null,
   "metadata": {
    "collapsed": true
   },
   "outputs": [],
   "source": [
    "## Assingment 2 (20)\n",
    "#Create a list  \n",
    "spam =\n",
    "print(spam)\n",
    "\n",
    "#Calculate the mean of the list (tip: use sum() and len()) \n",
    "mean = \n",
    "print(mean)\n",
    "\n",
    "#Calculate the mean of the first half of the list (tip: slice the list) \n",
    "mean_first_half = \n",
    "print(mean_first_half)\n",
    "\n",
    "#Check if the first element is larger than the last element \n",
    "first_element =\n",
    "last_elment =\n",
    "print(first_elment > last_element)"
   ]
  },
  {
   "cell_type": "code",
   "execution_count": null,
   "metadata": {
    "collapsed": true
   },
   "outputs": [],
   "source": [
    "## Assingment 3 (10)\n",
    "#Create a dictionary of names and sizes \n",
    "\n",
    "#Get the heights of \"Alice\" and \"Bob\" \n",
    "\n",
    "#Add the height of \"Chris\" "
   ]
  },
  {
   "cell_type": "code",
   "execution_count": null,
   "metadata": {
    "collapsed": true
   },
   "outputs": [],
   "source": [
    "## Assingment 3 (50)\n",
    "#Read csv \n",
    "pd.read_csv\n",
    "\n",
    "#Print descriptive statistics (10)\n",
    "\n",
    "#Keep year 2000 and 2015 (10) for (many people 1 attribute)\n",
    "pd.loc and .isin\n",
    "\n",
    "#Plot bars\n",
    "\n",
    "#Plot scatter\n",
    "\n",
    "#Plot vertical line\n",
    "\n",
    "#Plot histogram\n",
    "\n",
    "#Heatmap\n",
    "\n",
    "#Jointplot"
   ]
  },
  {
   "cell_type": "code",
   "execution_count": 2,
   "metadata": {
    "collapsed": false
   },
   "outputs": [
    {
     "name": "stdout",
     "output_type": "stream",
     "text": [
      "{\r\n",
      " \"cells\": [\r\n",
      "  {\r\n",
      "   \"cell_type\": \"markdown\",\r\n",
      "   \"metadata\": {},\r\n",
      "   \"source\": [\r\n",
      "    \"# Homework 1\\n\",\r\n",
      "    \"## Due date:\\n\",\r\n",
      "    \"\\n\"\r\n",
      "   ]\r\n"
     ]
    }
   ],
   "source": [
    "!head hw_1."
   ]
  },
  {
   "cell_type": "code",
   "execution_count": null,
   "metadata": {
    "collapsed": true
   },
   "outputs": [],
   "source": [
    "## Assingment 3 (4)\n",
    "#Read csv (careful, the file uses tabs)\n",
    "\n",
    "## Assingment 3 (4)\n",
    "#Read csv (careful, the file may have strange nan values)\n",
    "\n",
    "## Assingment 3 (4)\n",
    "#Read csv (careful, the file uses tabs)\n",
    "\n",
    "## Assingment 3 (4)\n",
    "#Read csv (careful, the file uses a different encoding)\n",
    "\n",
    "## Assingment 3 (4)\n",
    "#Read csv (careful, the file has a header)"
   ]
  }
 ],
 "metadata": {
  "kernelspec": {
   "display_name": "Python 3",
   "language": "python",
   "name": "python3"
  },
  "language_info": {
   "codemirror_mode": {
    "name": "ipython",
    "version": 3
   },
   "file_extension": ".py",
   "mimetype": "text/x-python",
   "name": "python",
   "nbconvert_exporter": "python",
   "pygments_lexer": "ipython3",
   "version": "3.5.1"
  }
 },
 "nbformat": 4,
 "nbformat_minor": 0
}
