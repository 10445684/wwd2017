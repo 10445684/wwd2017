{
 "cells": [
  {
   "cell_type": "markdown",
   "metadata": {},
   "source": [
    "# Homework 1\n",
    "## Due date: Friday 6th\n",
    "- Write your own code in the blanks. Collaboration with other students is encouraged, but in the case of collaborations both students must write their own code and write the name of the other student in this cell (double click to edit).\n",
    "- Complete the blanks\n",
    "- Assignment 5 will be weighted more\n",
    "\n",
    "Collaborated with:"
   ]
  },
  {
   "cell_type": "code",
   "execution_count": null,
   "metadata": {
    "collapsed": true
   },
   "outputs": [],
   "source": [
    "#Run this cell\n",
    "from IPython.display import Image,display"
   ]
  },
  {
   "cell_type": "markdown",
   "metadata": {},
   "source": [
    "## Assignment 1 (ungraded but important). Read some tutorials\n",
    "- Basic programming: This is a good video: https://www.youtube.com/watch?v=N4mEzFDjqtA (miuntes 2:30 -- 30:00)\n",
    "    - We covered 2:30 -- 15:45 in the first class, we'll cover most of the rest in the second class\n",
    "    - He doesn't use jupyter notebook but another editor. He writes in the left and the output appears in the right.\n",
    "- Pandas:\n",
    "    - A quick tour of the IPython Notebook: Shows off IPython’s awesome tab completion and magic functions.\n",
    "    - Chapter 1: Reading your data into pandas is pretty much the easiest thing. Even when the encoding is wrong!\n",
    "    - Chapter 2: It’s not totally obvious how to select data from a pandas dataframe. Here we explain the basics (how to take slices and get columns)\n",
    "    - Chapter 3: Here we get into serious slicing and dicing and learn how to filter dataframes in complicated ways, really fast.\n",
    "    \n",
    "\n",
    "\n",
    "    "
   ]
  },
  {
   "cell_type": "markdown",
   "metadata": {},
   "source": [
    "## Assignment 2 \n",
    "- Create a list named *spam* with numbers from 1 to 100 numbers \n",
    "\n",
    "- Calculate the mean of the list \n",
    "\n",
    "- Calculate the mean of the first half of the list \n",
    "\n",
    "- Check if the first element is larger than the last element"
   ]
  },
  {
   "cell_type": "code",
   "execution_count": null,
   "metadata": {
    "collapsed": true
   },
   "outputs": [],
   "source": [
    "## Assingment 2 (20)\n",
    "#Create a list of numbers between 1 and 100 (tip: use range())\n",
    "spam =\n",
    "print(spam)\n",
    "\n",
    "#Calculate the mean of the list (tip: use sum() and len()) \n",
    "mean = \n",
    "print(mean)\n",
    "\n",
    "#Calculate the mean of the first half of the list (tip: slice the list) \n",
    "mean_first_half = \n",
    "print(mean_first_half)\n",
    "\n",
    "#Check if the first element is larger or equal than the last element  (>=)\n",
    "first_element =\n",
    "last_elment =\n",
    "print() #this line needs to be completed, printing the result comparison"
   ]
  },
  {
   "cell_type": "markdown",
   "metadata": {},
   "source": [
    "## Assignment 3 \n",
    "- Create a dictionary of names and sizes usign two lists\n",
    "\n",
    "- Get the heights of \"Alice\" and \"Bob\" \n",
    "\n",
    "- Add the height of \"Holly\""
   ]
  },
  {
   "cell_type": "code",
   "execution_count": null,
   "metadata": {
    "collapsed": true
   },
   "outputs": [],
   "source": [
    "## Assingment 3 \n",
    "#Create a dictionary of names and sizes usign the following two lists (tip use dict() and zip())\n",
    "names = [\"Alice\",\"Bob\",\"Chris\",\"Dylan\",\"Esther\",\"Fred\",\"Greg\"]\n",
    "heights = [1.74,1.9,1.6,1.8,1.6,1.8,1.7]\n",
    "d_names2heights = \n",
    "\n",
    "#Get the heights of \"Alice\" and \"Bob\" \n",
    "\n",
    "\n",
    "#Add the height of \"Holly\" (1.98) \n",
    "\n"
   ]
  },
  {
   "cell_type": "markdown",
   "metadata": {},
   "source": [
    "## Assignment 4 \n",
    "- import numpy as np\n",
    "- Create a numpy array of numbers between 1 and 100 (tip: use np.arange())\n",
    "\n",
    "- Calculate the mean of the list (tip: np.mean()) \n",
    "\n",
    "- Filter the even numbers (tip: even number % 2 == 0) and save the resuls\n"
   ]
  },
  {
   "cell_type": "code",
   "execution_count": null,
   "metadata": {
    "collapsed": false
   },
   "outputs": [],
   "source": [
    "#import numpy as np\n",
    "import numpy as np\n",
    "\n",
    "#Create a numpy array of numbers between 1 and 10000 (tip: use np.arange())\n",
    "array =\n",
    "print(array)\n",
    "\n",
    "\n",
    "#Calculate the mean of the list (tip: np.mean()) \n",
    "mean =\n",
    "print(mean)\n",
    "\n",
    "\n",
    "#Filter the even numbers (tip: even number % 2 == 0) and save the resuls\n",
    "filter_condition = \n",
    "array_even = array[filter_condition]\n",
    "print(array_even)\n"
   ]
  },
  {
   "cell_type": "markdown",
   "metadata": {},
   "source": [
    "## Assignment 5  \n",
    "- Reading data\n",
    "    - a standard csv\n",
    "    - a csv using \"\\t\"\n",
    "    - a csv using a different encoding (try several until one works)\n",
    "    - a csv having no header\n",
    "    - a csv usign \"m\" as missing values (instead of \"nan\" or \"\" or \"-9\")\n",
    "    \n",
    "- Read a toy dataset on alcohol consumption with four columns\"\n",
    "    - adults: number of adults in household\n",
    "    - kids: number of kids in household\n",
    "    - income: average income\n",
    "    - consume: consume alcohol\n",
    "    \n",
    "- Print the top of the file (.head()), get descriptive statistics (.describe()) and make a contingency table visualizing the realtionship between number of adults (pd.crosstab())\n",
    "\n",
    "- Visualize the relationship between number of adults, alcohol consumption and income using the right type of plot (among the ones we learned). Think about what should the y variable, the x variable and the hue.\n",
    "\n",
    "- What plot would you use to model the number of adults vs income? \n"
   ]
  },
  {
   "cell_type": "code",
   "execution_count": null,
   "metadata": {
    "collapsed": true
   },
   "outputs": [],
   "source": [
    "#import pandas\n",
    "import pandas as pd"
   ]
  },
  {
   "cell_type": "code",
   "execution_count": null,
   "metadata": {
    "collapsed": true
   },
   "outputs": [],
   "source": [
    "#Read a standard csv, no strange things\n",
    "filename = \"data/hw1_csv_st.csv\"\n",
    "df_st = \n",
    "df_st"
   ]
  },
  {
   "cell_type": "code",
   "execution_count": null,
   "metadata": {
    "collapsed": true
   },
   "outputs": [],
   "source": [
    "#Read a standard csv, careful, the file uses tabs (\"\\t\") as separators\n",
    "filename = \"data/hw1_csv_tab.csv\"\n",
    "df_tab = \n",
    "df_tab"
   ]
  },
  {
   "cell_type": "code",
   "execution_count": null,
   "metadata": {
    "collapsed": true
   },
   "outputs": [],
   "source": [
    "#Read a standard csv, careful, the file uses a different encoding (no UTF-8)\n",
    "filename = \"data/hw1_csv_enc.csv\"\n",
    "df_enc = \n",
    "df"
   ]
  },
  {
   "cell_type": "code",
   "execution_count": null,
   "metadata": {
    "collapsed": true
   },
   "outputs": [],
   "source": [
    "#Read a standard csv, careful, the file does not have a header\n",
    "filename = \"data/hw1_csv_header.csv\"\n",
    "df_hea = \n",
    "df"
   ]
  },
  {
   "cell_type": "code",
   "execution_count": null,
   "metadata": {
    "collapsed": true
   },
   "outputs": [],
   "source": [
    "#Read a standard csv, careful, the file uses \"m\" to indicate a missing value\n",
    "filename = \"data/hw1_csv_weird_na.csv\"\n",
    "df_na = \n",
    "df"
   ]
  },
  {
   "cell_type": "markdown",
   "metadata": {},
   "source": [
    "---"
   ]
  },
  {
   "cell_type": "code",
   "execution_count": null,
   "metadata": {
    "collapsed": false,
    "scrolled": true
   },
   "outputs": [],
   "source": [
    "#read stata file (the file is in \"data/alcohol.dta\" and it is a stata file)\n",
    "df = \n",
    "\n",
    "#print top of the file to explore it (.head())\n"
   ]
  },
  {
   "cell_type": "code",
   "execution_count": null,
   "metadata": {
    "collapsed": true
   },
   "outputs": [],
   "source": [
    "#print descriptive statistics and interpret them (.describe())\n",
    "df."
   ]
  },
  {
   "cell_type": "code",
   "execution_count": null,
   "metadata": {
    "collapsed": true
   },
   "outputs": [],
   "source": [
    "#visualize the relationship between number of adults and number of kids using a contingency table (pd.crosstab(x,y))\n"
   ]
  },
  {
   "cell_type": "code",
   "execution_count": null,
   "metadata": {
    "collapsed": true
   },
   "outputs": [],
   "source": [
    "#keep only the households without kids and use this dataset for the rest of the assignment\n",
    "filtering_condition =\n",
    "df_nokids = df.loc[filtering_condition]"
   ]
  },
  {
   "cell_type": "code",
   "execution_count": null,
   "metadata": {
    "collapsed": false
   },
   "outputs": [],
   "source": [
    "#visualize the relationship between number of adults, alcohol consumption and income using the right type of plot\n",
    "\n"
   ]
  },
  {
   "cell_type": "markdown",
   "metadata": {},
   "source": [
    "** Interpret the plot you just made **\n",
    "\n",
    "answer here\n"
   ]
  },
  {
   "cell_type": "markdown",
   "metadata": {},
   "source": [
    "** What plot(s) would you use to model the number of adults vs income? Why? **\n",
    "\n",
    "answer here"
   ]
  },
  {
   "cell_type": "markdown",
   "metadata": {},
   "source": [
    "## Data visualization\n",
    "- We'll talk about data visualization theory in another class but as a general rule remember that SIMPLE IS BETTER (play the video in the cell below)"
   ]
  },
  {
   "cell_type": "code",
   "execution_count": 97,
   "metadata": {
    "collapsed": false,
    "scrolled": true
   },
   "outputs": [
    {
     "data": {
      "text/html": [
       "<!-- TODO -->\n",
       "<iframe width=\"560\" height=\"315\" src=\"https://zippy.gfycat.com/ImprobableFemaleBasenji.webm\" frameborder=\"0\" allowfullscreen></iframe>"
      ],
      "text/plain": [
       "<IPython.core.display.HTML object>"
      ]
     },
     "metadata": {},
     "output_type": "display_data"
    }
   ],
   "source": [
    "#Run to see video\n",
    "%%html\n",
    "<!-- TODO -->\n",
    "<iframe width=\"560\" height=\"315\" src=\"https://zippy.gfycat.com/ImprobableFemaleBasenji.webm\" frameborder=\"0\" allowfullscreen></iframe>"
   ]
  },
  {
   "cell_type": "markdown",
   "metadata": {},
   "source": [
    "## Assignment 6: Data visualization (5 points)\n",
    "- Read the figure boxes of this paper: http://journals.plos.org/ploscompbiol/article?id=10.1371/journal.pcbi.1003833\n",
    "- Explain what is wrong with the following figures and what kind of plot would you use (please edit the cell below answering the questions)"
   ]
  },
  {
   "cell_type": "markdown",
   "metadata": {},
   "source": [
    "---\n",
    "\n",
    "edit this cell with your answers (figures are below)\n",
    "\n",
    "### Figure 1 \n",
    "- What do you think this plot shows?\n",
    "\n",
    "answer here\n",
    "- What is wrong with the style?\n",
    "\n",
    "answer here\n",
    "- What is wrong (or can be improved) with the type of plot?\n",
    "\n",
    "answer here\n",
    "- What type of plot would you use and why?\n",
    "\n",
    "answer here\n",
    "\n",
    "### Figure 2\n",
    "- What do you think this plot shows? \n",
    "\n",
    "answer here\n",
    "- What is wrong with the message it gives?\n",
    "\n",
    "answer here\n",
    "- What is wrong (or can be improved) with the type of plot? (https://en.wikipedia.org/wiki/Bar_chart)\n",
    "\n",
    "answer here\n",
    "\n",
    "\n",
    "### Figure 3 \n",
    "This figure is interesting, based on this figure the NASA decided that there was no relationship between temperature and the failure of one of the components of the Challenger. There were also 17 launches with no incidents between 65 and 75 degrees. Because of this \"no relationship\", they decided to launch even when the temperature was 31F (0C), the component failed and the shuttle exploded: https://en.wikipedia.org/wiki/Space_Shuttle_Challenger \n",
    "- What do you think this plot shows? \n",
    "\n",
    "answer here\n",
    "- What is wrong with the message it gives? (tip: this is all the data https://tamino.files.wordpress.com/2011/12/rogersfig7.jpg)\n",
    "\n",
    "answer here\n",
    "- What is wrong (or can be improved) with the type of plot?\n",
    "\n",
    "answer here"
   ]
  },
  {
   "cell_type": "code",
   "execution_count": 96,
   "metadata": {
    "collapsed": false
   },
   "outputs": [
    {
     "name": "stdout",
     "output_type": "stream",
     "text": [
      "Figure 1\n"
     ]
    },
    {
     "data": {
      "text/html": [
       "<img src=\"http://www.datavis.ca/gallery/images/galvanic-3D.png\"/>"
      ],
      "text/plain": [
       "<IPython.core.display.Image object>"
      ]
     },
     "metadata": {},
     "output_type": "display_data"
    },
    {
     "name": "stdout",
     "output_type": "stream",
     "text": [
      "Figure 2\n"
     ]
    },
    {
     "data": {
      "text/html": [
       "<img src=\"http://www.econoclass.com/images/statdrivers.gif\"/>"
      ],
      "text/plain": [
       "<IPython.core.display.Image object>"
      ]
     },
     "metadata": {},
     "output_type": "display_data"
    },
    {
     "name": "stdout",
     "output_type": "stream",
     "text": [
      "Figure 3\n"
     ]
    },
    {
     "data": {
      "text/html": [
       "<img src=\"http://www.datavis.ca/gallery/images/nasa01.gif\"/>"
      ],
      "text/plain": [
       "<IPython.core.display.Image object>"
      ]
     },
     "metadata": {},
     "output_type": "display_data"
    }
   ],
   "source": [
    "print(\"Figure 1\")\n",
    "display(Image(url=\"http://www.datavis.ca/gallery/images/galvanic-3D.png\"))\n",
    "print(\"Figure 2\")\n",
    "display(Image(url=\"http://www.econoclass.com/images/statdrivers.gif\"))\n",
    "print(\"Figure 3\")\n",
    "display(Image(url=\"http://www.datavis.ca/gallery/images/nasa01.gif\"))"
   ]
  },
  {
   "cell_type": "markdown",
   "metadata": {},
   "source": [
    "---"
   ]
  },
  {
   "cell_type": "markdown",
   "metadata": {},
   "source": [
    "### Figure 4\n",
    "- All the plots below have the same correlation (R^2 = 0.67)\n",
    "\n",
    "Edit the cell below to answer the questions\n",
    "\n",
    "---"
   ]
  },
  {
   "cell_type": "markdown",
   "metadata": {},
   "source": [
    "- What can we say from these plots?\n",
    "\n",
    "- Now change the \"alpha\" parameter in the code below from 0 to 1 and run the cell.\n",
    "- What can we say now about the plots? "
   ]
  },
  {
   "cell_type": "code",
   "execution_count": null,
   "metadata": {
    "collapsed": false
   },
   "outputs": [],
   "source": [
    "import seaborn as sns\n",
    "sns.set(style=\"ticks\")\n",
    "\n",
    "# Load the example dataset for Anscombe's quartet\n",
    "df = sns.load_dataset(\"anscombe\")\n",
    "\n",
    "# Show the results of a linear regression within each dataset\n",
    "sns.lmplot(x=\"x\", y=\"y\", col=\"dataset\", hue=\"dataset\", data=df,\n",
    "           col_wrap=2, ci=None, palette=\"muted\", size=4,\n",
    "           scatter_kws={\"s\": 50, \"alpha\": 0})"
   ]
  },
  {
   "cell_type": "markdown",
   "metadata": {},
   "source": [
    "---"
   ]
  },
  {
   "cell_type": "code",
   "execution_count": 98,
   "metadata": {
    "collapsed": false
   },
   "outputs": [
    {
     "data": {
      "text/html": [
       "<img src=\"http://www.datavis.ca/gallery/images/pies/PiesIHaveEaten.png\"/>"
      ],
      "text/plain": [
       "<IPython.core.display.Image object>"
      ]
     },
     "execution_count": 98,
     "metadata": {},
     "output_type": "execute_result"
    }
   ],
   "source": [
    "#The only honest pie chart\n",
    "Image(url=\"http://www.datavis.ca/gallery/images/pies/PiesIHaveEaten.png\")"
   ]
  }
 ],
 "metadata": {
  "anaconda-cloud": {},
  "kernelspec": {
   "display_name": "Python [default]",
   "language": "python",
   "name": "python3"
  },
  "language_info": {
   "codemirror_mode": {
    "name": "ipython",
    "version": 3
   },
   "file_extension": ".py",
   "mimetype": "text/x-python",
   "name": "python",
   "nbconvert_exporter": "python",
   "pygments_lexer": "ipython3",
   "version": "3.5.2"
  }
 },
 "nbformat": 4,
 "nbformat_minor": 0
}
