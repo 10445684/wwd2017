{
 "cells": [
  {
   "cell_type": "code",
   "execution_count": 1,
   "metadata": {
    "collapsed": false
   },
   "outputs": [
    {
     "name": "stdout",
     "output_type": "stream",
     "text": [
      "Reinitialized existing Git repository in /datastore0/classroom/classes/wwd2017/.git/\r\n",
      "fatal: remote origin already exists.\r\n"
     ]
    }
   ],
   "source": [
    "#Only needed in the first class\n",
    "git init\n",
    "git remote add origin https://github.com/jgarciab/wwd2017.git"
   ]
  },
  {
   "cell_type": "code",
   "execution_count": 2,
   "metadata": {
    "collapsed": false
   },
   "outputs": [
    {
     "name": "stdout",
     "output_type": "stream",
     "text": [
      "From https://github.com/jgarciab/wwd2017\r\n",
      " * branch            master     -> FETCH_HEAD\r\n",
      "Already up-to-date.\r\n"
     ]
    }
   ],
   "source": [
    "#Needed before every class/homework\n",
    "git pull origin master"
   ]
  }
 ],
 "metadata": {
  "anaconda-cloud": {},
  "kernelspec": {
   "display_name": "Bash",
   "language": "bash",
   "name": "bash"
  },
  "language_info": {
   "codemirror_mode": "shell",
   "file_extension": ".sh",
   "mimetype": "text/x-sh",
   "name": "bash"
  }
 },
 "nbformat": 4,
 "nbformat_minor": 1
}
