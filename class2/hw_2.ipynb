{
 "cells": [
  {
   "cell_type": "code",
   "execution_count": null,
   "metadata": {
    "collapsed": true
   },
   "outputs": [],
   "source": [
    "### In-class assignment\n",
    "- Read the two dataframes: \"data/green_area_pc.csv\" and \"data/pop_dens.csv\"\n",
    "- Check their heads\n",
    "- Merge them\n",
    "- Create a new variable measuring the densitiy of green area (m^2 green)/(m^2 city). Think that the green_area_pc is (m^2 green)/population and pop_dens is population/(km^2 city)\n",
    "- Sort the dataset by this new variable (.sort_values(by= ,ascending=)) to find the city with the largest fraction of green area.\n",
    "- Sort the dataset by this new variable (.sort_values(by= ,ascending=)) to find the city with the lowest fraction of green area. use (.dropna() if needed)\n",
    "- Keep the Metropolitan areas \"Vienna\" and \"Graz\"\n",
    "\n",
    "- Make a plot (choose the appropriate type) of year vs this new variable"
   ]
  },
  {
   "cell_type": "code",
   "execution_count": null,
   "metadata": {
    "collapsed": true
   },
   "outputs": [],
   "source": [
    "### In-class assignment\n",
    "- Read the data from \"data/CITIES_19122016195113034.csv\"\n",
    "```\n",
    "df = pd.read_csv(\"data/CITIES_19122016195113034.csv\",sep=\"\\t\")\n",
    "```\n",
    "- Check the head\n",
    "- Fix the column names\n",
    "```\n",
    "cols = list(df.columns)\n",
    "cols[0] = \"METRO_ID\"\n",
    "df.columns = cols\n",
    "df.head()\n",
    "```\n",
    "\n",
    "- Fix the format\n",
    "```\n",
    "column_with_values = \"Value\"\n",
    "column_to_split = [\"VAR\"]\n",
    "variables_already_present = [\"METRO_ID\",\"Metropolitan areas\",\"Year\"]\n",
    "df_fixed = df.pivot_table(column_with_values,\n",
    "               variables_already_present,\n",
    "               column_to_split)\n",
    "df_fixed = df_fixed.reset_index()\n",
    "```\n",
    "\n",
    "- Discuss how to visualize labour productivity, unemployment rates and year\n",
    "\n",
    "- Sort the dataset by this new variable (.sort_values(by= ,ascending=)) to find the city with the largest fraction of green area.\n",
    "- Sort the dataset by this new variable (.sort_values(by= ,ascending=)) to find the city with the lowest fraction of green area. use (.dropna() if needed)\n",
    "- Keep the Metropolitan areas \"Vienna\" and \"Graz\"\n",
    "\n",
    "- Make a plot (choose the appropriate type) of year vs this new variable"
   ]
  },
  {
   "cell_type": "code",
   "execution_count": null,
   "metadata": {
    "collapsed": true
   },
   "outputs": [],
   "source": [
    "plt.subplot(3,1,1)\n",
    "\n",
    "for cit,gr in df_fixed.loc[df_fixed[\"Metropolitan areas\"].isin([\"Valencia\",\"Madrid\",\"Barcelona\"])].groupby(\"Metropolitan areas\"):\n",
    "    plt.plot(gr[\"LABOUR_PRODUCTIVITY\"],gr[\"UNEMP_R\"],color=\"gray\")\n",
    "    plt.scatter(gr[\"LABOUR_PRODUCTIVITY\"],gr[\"UNEMP_R\"],c=gr[\"Year\"],edgecolor=\"none\",label=cit,cmap=\"Blues\")\n",
    "    plt.xlim((65000,140000))\n",
    "    plt.ylim((0,30))    \n",
    "\n",
    "plt.subplot(3,1,2)\n",
    "for cit,gr in df_fixed.loc[df_fixed[\"Metropolitan areas\"].isin([\"Paris\",\"Lyon\",\"Bordeaux\"])].groupby(\"Metropolitan areas\"):\n",
    "    plt.plot(gr[\"LABOUR_PRODUCTIVITY\"],gr[\"UNEMP_R\"],color=\"gray\")\n",
    "    plt.scatter(gr[\"LABOUR_PRODUCTIVITY\"],gr[\"UNEMP_R\"],c=gr[\"Year\"],edgecolor=\"none\",label=cit,cmap=\"Greens\")\n",
    "    plt.xlim((65000,140000))\n",
    "    plt.ylim((0,30))\n",
    "    \n",
    "plt.subplot(3,1,3)\n",
    "for cit,gr in df_fixed.loc[df_fixed[\"Metropolitan areas\"].isin([\"Rome\",\"Turin\",\"Genova\"])].groupby(\"Metropolitan areas\"):\n",
    "    plt.plot(gr[\"LABOUR_PRODUCTIVITY\"],gr[\"UNEMP_R\"],color=\"gray\")\n",
    "    plt.scatter(gr[\"LABOUR_PRODUCTIVITY\"],gr[\"UNEMP_R\"],c=gr[\"Year\"],edgecolor=\"none\",label=cit,cmap=\"Reds\")\n",
    "   \n",
    "    plt.xlim((65000,140000))\n",
    "    plt.ylim((0,30))\n",
    "\n",
    "# Why do we get those results? "
   ]
  },
  {
   "cell_type": "markdown",
   "metadata": {},
   "source": [
    "## Assignment 3 \n",
    "- Create a dictionary of names and sizes usign two lists\n",
    "\n",
    "- Get the heights of \"Alice\" and \"Bob\" \n",
    "\n",
    "- Add the height of \"Holly\""
   ]
  },
  {
   "cell_type": "code",
   "execution_count": null,
   "metadata": {
    "collapsed": true
   },
   "outputs": [],
   "source": [
    "## Assingment 3 \n",
    "#Create a dictionary of names and sizes usign the following two lists (tip use dict() and zip())\n",
    "names = [\"Alice\",\"Bob\",\"Chris\",\"Dylan\",\"Esther\",\"Fred\",\"Greg\"]\n",
    "heights = [1.74,1.9,1.6,1.8,1.6,1.8,1.7]\n",
    "d_names2heights = \n",
    "\n",
    "#Get the heights of \"Alice\" and \"Bob\" \n",
    "\n",
    "\n",
    "#Add the height of \"Holly\" (1.98) \n",
    "\n"
   ]
  },
  {
   "cell_type": "code",
   "execution_count": null,
   "metadata": {
    "collapsed": true
   },
   "outputs": [],
   "source": [
    "http://pandas.pydata.org/pandas-docs/version/0.18.1/visualization.html\n",
    "    seaborn"
   ]
  },
  {
   "cell_type": "markdown",
   "metadata": {},
   "source": [
    "- Read the figure boxes of this paper for more information: http://journals.plos.org/ploscompbiol/article?id=10.1371/journal.pcbi.1003833\n",
    "        \n",
    "## Assignment 5: Data visualization\n",
    "- Explain what do you think that is wrong with the following figures and what kind of plot would you use. There are many correct ways to answer and I'm not looking for a perfect critique."
   ]
  },
  {
   "cell_type": "markdown",
   "metadata": {},
   "source": [
    "---\n",
    "\n",
    "edit this cell with your answers (figures are below)\n",
    "\n",
    "### Figure 1 \n",
    "- What do you think this plot shows?\n",
    "\n",
    "answer here\n",
    "- What is wrong with the style?\n",
    "\n",
    "answer here\n",
    "- What is wrong (or can be improved) with the type of plot?\n",
    "\n",
    "answer here\n",
    "- What type of plot would you use and why?\n",
    "\n",
    "answer here\n",
    "\n",
    "### Figure 2\n",
    "- What do you think this plot shows? \n",
    "\n",
    "answer here\n",
    "- What is wrong with the message it gives?\n",
    "\n",
    "answer here\n",
    "- What is wrong (or can be improved) with the type of plot? (https://en.wikipedia.org/wiki/Bar_chart)\n",
    "\n",
    "answer here\n",
    "\n",
    "\n",
    "### Figure 3 \n",
    "This figure is interesting, based on this figure the NASA decided that there was no relationship between temperature and the failure of one of the components of the Challenger. There were also 17 launches with no incidents between 65 and 75 degrees. Because of this \"no relationship\", they decided to launch even when the temperature was 31F (0C), the component failed and the shuttle exploded: https://en.wikipedia.org/wiki/Space_Shuttle_Challenger \n",
    "- What do you think this plot shows? \n",
    "\n",
    "answer here\n",
    "- What is wrong with the message it gives? (tip: this is all the data https://tamino.files.wordpress.com/2011/12/rogersfig7.jpg)\n",
    "\n",
    "answer here\n",
    "- What is wrong (or can be improved) with the type of plot?\n",
    "\n",
    "answer here\n"
   ]
  },
  {
   "cell_type": "code",
   "execution_count": null,
   "metadata": {
    "collapsed": true
   },
   "outputs": [],
   "source": [
    "print(\"Figure 1\")\n",
    "display(Image(url=\"http://www.datavis.ca/gallery/images/galvanic-3D.png\"))\n",
    "print(\"Figure 2\")\n",
    "display(Image(url=\"http://www.econoclass.com/images/statdrivers.gif\"))\n",
    "print(\"Figure 3\")\n",
    "display(Image(url=\"http://www.datavis.ca/gallery/images/nasa01.gif\"))\n"
   ]
  }
 ],
 "metadata": {
  "anaconda-cloud": {},
  "kernelspec": {
   "display_name": "Python [default]",
   "language": "python",
   "name": "python3"
  },
  "language_info": {
   "codemirror_mode": {
    "name": "ipython",
    "version": 3
   },
   "file_extension": ".py",
   "mimetype": "text/x-python",
   "name": "python",
   "nbconvert_exporter": "python",
   "pygments_lexer": "ipython3",
   "version": "3.5.2"
  }
 },
 "nbformat": 4,
 "nbformat_minor": 1
}
