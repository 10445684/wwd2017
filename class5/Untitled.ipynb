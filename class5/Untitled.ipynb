{
 "cells": [
  {
   "cell_type": "code",
   "execution_count": null,
   "metadata": {
    "collapsed": true
   },
   "outputs": [],
   "source": [
    "\n",
    "\n",
    "* Pandas IV: Operations with text: 0.5 hours\n",
    "\n",
    "* OCR (pdf reading) : 0.5 hours\n",
    "\n",
    "* Examples: 1 hour\n",
    "\n",
    "     ^ LexisNexis: 0.5 hours\n",
    "\n",
    "     ^ Violence data: 0.5 hours\n",
    "\n",
    "* Words -> Numbers: (1 hour)\n",
    "\n",
    "     ^ Word counting\n",
    "\n",
    "     ^ Classifying text into categories\n",
    "\n",
    "     ^ Some other method\n",
    "\n",
    "     ^ Topic modeling and sentiment analysis overview: 10 minutes\n",
    "\n",
    "\n",
    "* Assignment: Download news, count wording, classify into two topics and plot over time"
   ]
  }
 ],
 "metadata": {
  "anaconda-cloud": {},
  "kernelspec": {
   "display_name": "Python [conda root]",
   "language": "python",
   "name": "conda-root-py"
  },
  "language_info": {
   "codemirror_mode": {
    "name": "ipython",
    "version": 3
   },
   "file_extension": ".py",
   "mimetype": "text/x-python",
   "name": "python",
   "nbconvert_exporter": "python",
   "pygments_lexer": "ipython3",
   "version": "3.5.2"
  }
 },
 "nbformat": 4,
 "nbformat_minor": 1
}
