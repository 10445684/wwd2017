{
 "cells": [
  {
   "cell_type": "code",
   "execution_count": null,
   "metadata": {
    "collapsed": true
   },
   "outputs": [],
   "source": [
    "Pandas IV: Operations with text: 0.5 hours\n",
    "Regular expression: 0.5 hours\n",
    "OCR (pdf reading): 0.5 hours\n",
    "Words -> Numbers: (1 hour) using LexisNexis (or manifesto)\n",
    "     ^ Word counting\n",
    "     ^ Classifying text into categories\n",
    "     ^ Some other method\n",
    "     ^ Topic modeling and sentiment analysis overview: 10 minutes\n",
    "\n",
    "Assignment: \n",
    "-HW_4 (deadline Friday): Download news, count wording, classify into two topics and plot over time"
   ]
  },
  {
   "cell_type": "code",
   "execution_count": 1,
   "metadata": {
    "collapsed": true
   },
   "outputs": [],
   "source": [
    "import requests"
   ]
  },
  {
   "cell_type": "code",
   "execution_count": null,
   "metadata": {
    "collapsed": true
   },
   "outputs": [],
   "source": [
    "Ds = \"60\",1\",40\",3\",16&amp;M=1\",5\",7\",9\",44\",46\",11\",12\",17\",88\",13\",15\",50\",54\",19\",48\",21\",52\",23\",25\",64\",26\",24\",56\",27\",28\",29\",31\",68\",72\",                                  "
   ]
  },
  {
   "cell_type": "code",
   "execution_count": 6,
   "metadata": {
    "collapsed": false
   },
   "outputs": [
    {
     "data": {
      "text/plain": [
       "True"
      ]
     },
     "execution_count": 6,
     "metadata": {},
     "output_type": "execute_result"
    }
   ],
   "source": [
    "starting_web = requests.get('http://www.colombia.com/elecciones/2016/plebiscito/resultados/?C=PL&D=60&M=10')\n",
    "html = bs.BeautifulSoup(r.text)"
   ]
  },
  {
   "cell_type": "code",
   "execution_count": 77,
   "metadata": {
    "collapsed": false
   },
   "outputs": [
    {
     "data": {
      "text/plain": [
       "[<td>Umbral:</td>,\n",
       " <td colspan=\"2\">4,536,992</td>,\n",
       " <td>Mesas instaladas:</td>,\n",
       " <td colspan=\"2\">2</td>,\n",
       " <td>Mesas informadas:</td>,\n",
       " <td>2</td>,\n",
       " <td>100.00 %</td>,\n",
       " <td>Potencial sufragantes:</td>,\n",
       " <td colspan=\"2\">743</td>,\n",
       " <td>Votos no marcados:</td>,\n",
       " <td>0</td>,\n",
       " <td>0.00 % </td>,\n",
       " <td>Votos nulos:</td>,\n",
       " <td>2</td>,\n",
       " <td>0.89 % </td>,\n",
       " <td>Total sufragantes:</td>,\n",
       " <td>223</td>,\n",
       " <td>30.01 %</td>]"
      ]
     },
     "execution_count": 77,
     "metadata": {},
     "output_type": "execute_result"
    }
   ],
   "source": [
    "html.find(\"table\",attrs={\"class\":\"table bordered striped\"}).find_all(\"td\")"
   ]
  },
  {
   "cell_type": "code",
   "execution_count": 79,
   "metadata": {
    "collapsed": true
   },
   "outputs": [],
   "source": [
    "import time"
   ]
  },
  {
   "cell_type": "code",
   "execution_count": 84,
   "metadata": {
    "collapsed": false
   },
   "outputs": [
    {
     "name": "stderr",
     "output_type": "stream",
     "text": [
      "/opt/anaconda/anaconda3/lib/python3.5/site-packages/bs4/__init__.py:181: UserWarning: No parser was explicitly specified, so I'm using the best available HTML parser for this system (\"lxml\"). This usually isn't a problem, but if you run this code on another system, or in a different virtual environment, it may use a different parser and behave differently.\n",
      "\n",
      "The code that caused this warning is on line 184 of the file /opt/anaconda/anaconda3/lib/python3.5/runpy.py. To get rid of this warning, change code that looks like this:\n",
      "\n",
      " BeautifulSoup([your markup])\n",
      "\n",
      "to this:\n",
      "\n",
      " BeautifulSoup([your markup], \"lxml\")\n",
      "\n",
      "  markup_type=markup_type))\n"
     ]
    },
    {
     "name": "stdout",
     "output_type": "stream",
     "text": [
      "AMAZONAS EL ENCANTO\n",
      "ANTIOQUIA ABEJORRAL\n",
      "ARAUCA ARAUCA\n",
      "ATLANTICO BARANOA\n",
      "BOGOTA D.C. BOGOTA. D.C.\n",
      "BOLIVAR ACHI\n",
      "BOYACA ALMEIDA\n",
      "CALDAS AGUADAS\n",
      "CAQUETA ALBANIA\n",
      "CASANARE AGUAZUL\n",
      "CAUCA ALMAGUER\n",
      "CESAR AGUACHICA\n",
      "CHOCO ACANDI\n"
     ]
    },
    {
     "ename": "IndexError",
     "evalue": "list index out of range",
     "output_type": "error",
     "traceback": [
      "\u001b[0;31m---------------------------------------------------------------------------\u001b[0m",
      "\u001b[0;31mIndexError\u001b[0m                                Traceback (most recent call last)",
      "\u001b[0;32m<ipython-input-84-02c97b032193>\u001b[0m in \u001b[0;36m<module>\u001b[0;34m()\u001b[0m\n\u001b[1;32m      7\u001b[0m         \u001b[0mhtml_dep\u001b[0m \u001b[0;34m=\u001b[0m \u001b[0mbs\u001b[0m\u001b[0;34m.\u001b[0m\u001b[0mBeautifulSoup\u001b[0m\u001b[0;34m(\u001b[0m\u001b[0mdep_web\u001b[0m\u001b[0;34m.\u001b[0m\u001b[0mtext\u001b[0m\u001b[0;34m)\u001b[0m\u001b[0;34m\u001b[0m\u001b[0m\n\u001b[1;32m      8\u001b[0m \u001b[0;34m\u001b[0m\u001b[0m\n\u001b[0;32m----> 9\u001b[0;31m         \u001b[0;32mfor\u001b[0m \u001b[0mlink_mun\u001b[0m \u001b[0;32min\u001b[0m \u001b[0mhtml_dep\u001b[0m\u001b[0;34m.\u001b[0m\u001b[0mfind_all\u001b[0m\u001b[0;34m(\u001b[0m\u001b[0;34m\"ul\"\u001b[0m\u001b[0;34m,\u001b[0m\u001b[0mattrs\u001b[0m\u001b[0;34m=\u001b[0m\u001b[0;34m{\u001b[0m\u001b[0;34m\"id\"\u001b[0m\u001b[0;34m:\u001b[0m\u001b[0;34m\"dropdown_municipios\"\u001b[0m\u001b[0;34m}\u001b[0m\u001b[0;34m)\u001b[0m\u001b[0;34m[\u001b[0m\u001b[0;36m0\u001b[0m\u001b[0;34m]\u001b[0m\u001b[0;34m.\u001b[0m\u001b[0mfind_all\u001b[0m\u001b[0;34m(\u001b[0m\u001b[0;34m\"a\"\u001b[0m\u001b[0;34m,\u001b[0m\u001b[0mhref\u001b[0m\u001b[0;34m=\u001b[0m\u001b[0;32mTrue\u001b[0m\u001b[0;34m)\u001b[0m\u001b[0;34m:\u001b[0m\u001b[0;34m\u001b[0m\u001b[0m\n\u001b[0m\u001b[1;32m     10\u001b[0m             \u001b[0;32mif\u001b[0m \u001b[0;34m\"--\"\u001b[0m \u001b[0;32min\u001b[0m \u001b[0mlink_mun\u001b[0m\u001b[0;34m.\u001b[0m\u001b[0mtext\u001b[0m\u001b[0;34m:\u001b[0m \u001b[0;32mcontinue\u001b[0m\u001b[0;34m\u001b[0m\u001b[0m\n\u001b[1;32m     11\u001b[0m             \u001b[0mtime\u001b[0m\u001b[0;34m.\u001b[0m\u001b[0msleep\u001b[0m\u001b[0;34m(\u001b[0m\u001b[0;36m0.2\u001b[0m\u001b[0;34m)\u001b[0m\u001b[0;34m\u001b[0m\u001b[0m\n",
      "\u001b[0;31mIndexError\u001b[0m: list index out of range"
     ]
    }
   ],
   "source": [
    "with open(\"colombia_plesb.csv\",\"w+\") as f:\n",
    "    for link in html.find_all(\"ul\",attrs={\"id\":\"dropdown_departamentos\"})[0].find_all(\"a\",href=True):\n",
    "        if \"--\" in link.text: continue\n",
    "\n",
    "        url_dep = 'http://www.colombia.com/' + link[\"href\"]\n",
    "        dep_web = requests.get(url_dep)\n",
    "        html_dep = bs.BeautifulSoup(dep_web.text)\n",
    "\n",
    "        for link_mun in html_dep.find_all(\"ul\",attrs={\"id\":\"dropdown_municipios\"})[0].find_all(\"a\",href=True):\n",
    "            if \"--\" in link_mun.text: continue\n",
    "            time.sleep(0.2)\n",
    "            print(link.text,link_mun.text)\n",
    "            url_mun = 'http://www.colombia.com/' + link_mun[\"href\"]\n",
    "            dep_mun = requests.get(url_mun)\n",
    "            html_mun = bs.BeautifulSoup(dep_mun.text)            \n",
    "\n",
    "\n",
    "            participation = html_mun.find(\"table\",attrs={\"class\":\"table bordered striped\"}).find_all(\"td\")[-1].text[:-2]\n",
    "            nulos = html_mun.find(\"table\",attrs={\"class\":\"table bordered striped\"}).find_all(\"td\")[-5].text\n",
    "            total = html_mun.find(\"table\",attrs={\"class\":\"table bordered striped\"}).find_all(\"td\")[-2].text\n",
    "            mesas = html_mun.find(\"table\",attrs={\"class\":\"table bordered striped\"}).find_all(\"td\")[3].text\n",
    "            si,no = html_mun.find_all(\"table\",attrs={\"class\":\"table bordered striped centered\"})[-1].find_all(\"tr\")[1:-1]\n",
    "            si = si.find_all(\"td\")[1].text\n",
    "            no = no.find_all(\"td\")[1].text       \n",
    "\n",
    "            f.write(\"{}\\t{}\\t{}\\t{}\\t{}\\t{}\\t{}\\t{}\\n\".format(link.text,link_mun.text,\n",
    "                                                              mesas.replace(\",\",\"\"),\n",
    "                                                              total.replace(\",\",\"\"),\n",
    "                                                              participation,\n",
    "                                                              nulos.replace(\",\",\"\"),\n",
    "                                                              si.replace(\",\",\"\"),\n",
    "                                                              no.replace(\",\",\"\")))\n",
    "            break"
   ]
  },
  {
   "cell_type": "code",
   "execution_count": 48,
   "metadata": {
    "collapsed": false
   },
   "outputs": [
    {
     "data": {
      "text/plain": [
       "'30.01'"
      ]
     },
     "execution_count": 48,
     "metadata": {},
     "output_type": "execute_result"
    }
   ],
   "source": []
  },
  {
   "cell_type": "code",
   "execution_count": 37,
   "metadata": {
    "collapsed": false
   },
   "outputs": [
    {
     "name": "stdout",
     "output_type": "stream",
     "text": [
      "/elecciones/2016/plebiscito/resultados/?C=PL&D=60&M=10 EL ENCANTO\n",
      "/elecciones/2016/plebiscito/resultados/?C=PL&D=60&M=13 LA CHORRERA\n",
      "/elecciones/2016/plebiscito/resultados/?C=PL&D=60&M=16 LA PEDRERA\n",
      "/elecciones/2016/plebiscito/resultados/?C=PL&D=60&M=17 LA VICTORIA\n",
      "/elecciones/2016/plebiscito/resultados/?C=PL&D=60&M=1 LETICIA\n",
      "/elecciones/2016/plebiscito/resultados/?C=PL&D=60&M=19 MIRITI PARANA\n",
      "/elecciones/2016/plebiscito/resultados/?C=PL&D=60&M=30 PUERTO ALEGRIA\n",
      "/elecciones/2016/plebiscito/resultados/?C=PL&D=60&M=40 PUERTO ARICA\n",
      "/elecciones/2016/plebiscito/resultados/?C=PL&D=60&M=7 PUERTO NARI?O\n",
      "/elecciones/2016/plebiscito/resultados/?C=PL&D=60&M=21 PUERTO SANTANDER\n",
      "/elecciones/2016/plebiscito/resultados/?C=PL&D=60&M=22 TARAPACA\n"
     ]
    }
   ],
   "source": []
  }
 ],
 "metadata": {
  "anaconda-cloud": {},
  "kernelspec": {
   "display_name": "Python [conda root]",
   "language": "python",
   "name": "conda-root-py"
  },
  "language_info": {
   "codemirror_mode": {
    "name": "ipython",
    "version": 3
   },
   "file_extension": ".py",
   "mimetype": "text/x-python",
   "name": "python",
   "nbconvert_exporter": "python",
   "pygments_lexer": "ipython3",
   "version": "3.5.2"
  }
 },
 "nbformat": 4,
 "nbformat_minor": 1
}
