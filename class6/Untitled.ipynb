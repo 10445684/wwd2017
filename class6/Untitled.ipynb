{
 "cells": [
  {
   "cell_type": "code",
   "execution_count": null,
   "metadata": {
    "collapsed": true
   },
   "outputs": [],
   "source": [
    "* time formatting\n",
    "\n",
    "* Working with distances and proyections: 0.5 hours\n",
    "\n",
    "* Geocoding using google maps: 0.5 hours\n",
    "\n",
    "* Making map plots [options (to choose one): qgis / plotly / d3 / vincent]: 1 hour\n",
    "\n",
    "* Maybe one stats methods using distances?\n",
    "\n",
    "\n",
    "* Assignment: Work on final project (download, clean/geocode/cluster, plot, regression/model)"
   ]
  }
 ],
 "metadata": {
  "anaconda-cloud": {},
  "kernelspec": {
   "display_name": "Python [conda root]",
   "language": "python",
   "name": "conda-root-py"
  },
  "language_info": {
   "codemirror_mode": {
    "name": "ipython",
    "version": 3
   },
   "file_extension": ".py",
   "mimetype": "text/x-python",
   "name": "python",
   "nbconvert_exporter": "python",
   "pygments_lexer": "ipython3",
   "version": "3.5.2"
  }
 },
 "nbformat": 4,
 "nbformat_minor": 1
}
