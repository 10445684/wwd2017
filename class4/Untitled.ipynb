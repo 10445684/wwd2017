{
 "cells": [
  {
   "cell_type": "code",
   "execution_count": null,
   "metadata": {
    "collapsed": true
   },
   "outputs": [],
   "source": [
    "* Where to find data: 0.5 hours (e.g. http://www.paulhensel.org/compendium.html)\n",
    "\n",
    "* Examples (combining datasets and plotting): 2 hours\n",
    "\n",
    "     ^ EU Social survey, LAPOP or Afrobarometer\n",
    "\n",
    "     ^ Comparative Study of Electoral Systems (CSES)\n",
    "\n",
    "     ^ Some kind of urban planning dataset (COMTRADE maybe)     \n",
    "\n",
    "   \n",
    "\n",
    "* Data visualization theory:  0.5 hours\n",
    "\n",
    "\n",
    "* Assignment:\n",
    "\n",
    "     ^ Download LAPOP data, plot and regression\n",
    "\n"
   ]
  }
 ],
 "metadata": {
  "anaconda-cloud": {},
  "kernelspec": {
   "display_name": "Python [conda root]",
   "language": "python",
   "name": "conda-root-py"
  },
  "language_info": {
   "codemirror_mode": {
    "name": "ipython",
    "version": 3
   },
   "file_extension": ".py",
   "mimetype": "text/x-python",
   "name": "python",
   "nbconvert_exporter": "python",
   "pygments_lexer": "ipython3",
   "version": "3.5.2"
  }
 },
 "nbformat": 4,
 "nbformat_minor": 1
}
