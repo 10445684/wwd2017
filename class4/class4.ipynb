{
 "cells": [
  {
   "cell_type": "code",
   "execution_count": null,
   "metadata": {
    "collapsed": true
   },
   "outputs": [],
   "source": [
    "# Working with data 2017. Class 3\n",
    "## Contact\n",
    "Javier Garcia-Bernardo\n",
    "garcia@uva.nl\n",
    "\n",
    "\n",
    "## 0. Structure\n",
    "1. Regression / mixed models\n",
    "2. LAPOP data (http://www.vanderbilt.edu/lapop/survey-data.php)\n",
    "3. CSES data (http://www.cses.org/datacenter/module4/module4.htm)\n",
    "4. COMTRADE data (https://comtrade.un.org/data/)\n",
    "5. Economic data (http://orbis.bvdinfo.com/ip/)\n",
    "5. Others (EU Social survey, Afrobarometer, http://www.paulhensel.org/compendium.html)\n",
    "6. Plotting according to similarity / dendogram \n",
    "7. Inkscape\n",
    "\n",
    "Assignment:\n",
    "- HW_3 (deadline Monday): Download LAPOP data, tidy, merge, fix missing values, plot and regression\n"
   ]
  }
 ],
 "metadata": {
  "anaconda-cloud": {},
  "kernelspec": {
   "display_name": "Python [conda root]",
   "language": "python",
   "name": "conda-root-py"
  },
  "language_info": {
   "codemirror_mode": {
    "name": "ipython",
    "version": 3
   },
   "file_extension": ".py",
   "mimetype": "text/x-python",
   "name": "python",
   "nbconvert_exporter": "python",
   "pygments_lexer": "ipython3",
   "version": "3.5.2"
  }
 },
 "nbformat": 4,
 "nbformat_minor": 1
}
